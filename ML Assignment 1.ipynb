{
 "cells": [
  {
   "cell_type": "markdown",
   "id": "8625b502",
   "metadata": {},
   "source": [
    "1. What does one mean by the term \"machine learning\" ?"
   ]
  },
  {
   "cell_type": "markdown",
   "id": "88a68d4e",
   "metadata": {},
   "source": [
    "Machine learning is a subset of artificial intelligence (AI) that enables computer to  learn and improve their performance on a specific task without being explicitly programmed for that task. The central idea behind machine learning is to use data to identify patterns, make predictions, or solve complex problems."
   ]
  },
  {
   "cell_type": "markdown",
   "id": "6b2f5cdd",
   "metadata": {},
   "source": [
    "2. Can you think of 4 distinct types of issues where it shines ?"
   ]
  },
  {
   "cell_type": "markdown",
   "id": "711cdd8a",
   "metadata": {},
   "source": [
    "Machine learning has a wide range of applications, including image and speech recognition, natural language processing, recommendation systems, medical diagnosis, financial forecasting, and many more. Its ability to process vast amounts of data and learn from it makes it a powerful tool for addressing complex real-world problems."
   ]
  },
  {
   "cell_type": "markdown",
   "id": "0721daae",
   "metadata": {},
   "source": [
    "3. What is a labeled training set, and how does it work ?"
   ]
  },
  {
   "cell_type": "markdown",
   "id": "e4fe4d12",
   "metadata": {},
   "source": [
    "A labeled training set is a fundamental concept in supervised machine learning. It refers to a dataset that consists of input data samples paired with their corresponding output labels or target values. In other words, each data sample in the training set is associated with the correct answer or the desired outcome for the task at hand."
   ]
  },
  {
   "cell_type": "markdown",
   "id": "29a4090d",
   "metadata": {},
   "source": [
    "4. What are the two most important tasks that are supervised ?"
   ]
  },
  {
   "cell_type": "markdown",
   "id": "6f0cd0a8",
   "metadata": {},
   "source": [
    "The two most important tasks that are supervised are classification and regression."
   ]
  },
  {
   "cell_type": "markdown",
   "id": "39593ffa",
   "metadata": {},
   "source": [
    "5. Can you think of four examples of unsupervised tasks ?"
   ]
  },
  {
   "cell_type": "markdown",
   "id": "33a0234f",
   "metadata": {},
   "source": [
    "Four examples of unsupervised tasks are Clustering, Dimensionality Reduction, Anomaly Deduction, Association Rule Mining"
   ]
  },
  {
   "cell_type": "markdown",
   "id": "9b74cfad",
   "metadata": {},
   "source": [
    "6. State the machine learning model that would be best to make a robot walk through various unfamiliar terrains ?"
   ]
  },
  {
   "cell_type": "markdown",
   "id": "18c2214f",
   "metadata": {},
   "source": [
    "The machine learning model that would be best to make a robot walk through various unfamiliar terrains is reinforcement learning. The robot would be trained by trial and error. It would start by taking random actions, and it would be rewarded for taking actions that led to it moving forward and penalized for taking actions that led to it falling over. Over time, the robot would learn to take actions that led to it reaching its destination without falling over."
   ]
  },
  {
   "cell_type": "markdown",
   "id": "10c22db1",
   "metadata": {},
   "source": [
    "7. Which algorithm will you use to divide your customers into different groups ?"
   ]
  },
  {
   "cell_type": "markdown",
   "id": "84f8aef3",
   "metadata": {},
   "source": [
    "We can use clustering to divide our customers into various segments due to their similarity or differences."
   ]
  },
  {
   "cell_type": "markdown",
   "id": "04ecf46b",
   "metadata": {},
   "source": [
    "8. Will you consider the problem of spam detection to be a supervised or unsupervised learning problem ?"
   ]
  },
  {
   "cell_type": "markdown",
   "id": "d958da8d",
   "metadata": {},
   "source": [
    "Spam detection is a supervised learning problem to classify the spam."
   ]
  },
  {
   "cell_type": "markdown",
   "id": "703a2d58",
   "metadata": {},
   "source": [
    "9. What is the concept of an online learning system ?"
   ]
  },
  {
   "cell_type": "markdown",
   "id": "f812006d",
   "metadata": {},
   "source": [
    "Online learning is particularly useful in scenarios where the data is constantly changing or arriving in streams, and it's not feasible or practical to retrain the model from scratch each time. It is commonly used in various applications, such as online advertising, fraud detection, recommendation systems, dynamic pricing, and natural language processing tasks like sentiment analysis and chatbots."
   ]
  },
  {
   "cell_type": "markdown",
   "id": "95f66a24",
   "metadata": {},
   "source": [
    "10. What is out-of-core learning, and how does it differ from core learning ?"
   ]
  },
  {
   "cell_type": "markdown",
   "id": "e033210d",
   "metadata": {},
   "source": [
    "Out-of-core learning is a technique used to train machine learning models on datasets that are too large to fit in the main memory of a computer. In core learning, the entire dataset is loaded into memory at once."
   ]
  },
  {
   "cell_type": "markdown",
   "id": "5d5b4a58",
   "metadata": {},
   "source": [
    "11. What kind of learning algorithm makes predictions using a similarity measure ?"
   ]
  },
  {
   "cell_type": "markdown",
   "id": "14382b70",
   "metadata": {},
   "source": [
    "The kind of learning algorithm that makes predictions using a similarity measure is Instance-based learning, also known as Lazy Learning. Instance-based learning is a type of supervised learning where the model makes predictions for new, unseen data points based on their similarity to the instances in the training set."
   ]
  },
  {
   "cell_type": "markdown",
   "id": "b2139be1",
   "metadata": {},
   "source": [
    "12. What's the difference between a model parameter and a hyperparameter in a learning algorithm ?"
   ]
  },
  {
   "cell_type": "markdown",
   "id": "9ee595ef",
   "metadata": {},
   "source": [
    "Model parameters are learned from the training data and represent the internal variables that define the model's behavior and predictions.\n",
    "Hyperparameters are set externally before training and control aspects of the learning algorithm, influencing how the model is learned and optimized."
   ]
  },
  {
   "cell_type": "markdown",
   "id": "2ee25240",
   "metadata": {},
   "source": [
    "13. What are the criteria that model-based learning algorithms look for? What is the most popular method they use to achieve success? What method do they use to make predictions ?"
   ]
  },
  {
   "cell_type": "markdown",
   "id": "8bf5556f",
   "metadata": {},
   "source": [
    "The criteria that model-based learning algorithms look for are low training error and good generalization. The most popular method used by model-based learning algorithms to achieve success is Optimization. Optimization involves finding the model parameters that minimize a predefined objective function or loss function. To make predictions, the model-based learning algorithm applies the learned model to the new data."
   ]
  },
  {
   "cell_type": "markdown",
   "id": "a0a81f18",
   "metadata": {},
   "source": [
    "14. Can you name four of the most important Machine Learning challenges ?"
   ]
  },
  {
   "cell_type": "markdown",
   "id": "fc830059",
   "metadata": {},
   "source": [
    "Here are four of the most important machine learning challenges:\n",
    "\n",
    "Data Quality and Quantity\n",
    "Overfitting and Underfitting\n",
    "Algorithm Selection and Hyperparameter Tuning\n",
    "Interpretability and Explainability"
   ]
  },
  {
   "cell_type": "markdown",
   "id": "fd895339",
   "metadata": {},
   "source": [
    "15. What happens if the model performs well on the training data but fails to generalize the results to new situations? Can you think of three different options ?"
   ]
  },
  {
   "cell_type": "markdown",
   "id": "50b0f419",
   "metadata": {},
   "source": [
    "If a model performs well on the training data but fails to generalize its results to new situations, it indicates a problem of overfitting.Here are three different options to address overfitting:\n",
    "\n",
    "Regularization\n",
    "Cross-Validation\n",
    "Feature Selection"
   ]
  },
  {
   "cell_type": "markdown",
   "id": "55c23fc8",
   "metadata": {},
   "source": [
    "16. What exactly is a test set, and why would you need one ?"
   ]
  },
  {
   "cell_type": "markdown",
   "id": "cb157317",
   "metadata": {},
   "source": [
    "A test set is a separate portion of the labeled dataset that is kept aside and not used during the training phase of a machine learning model. It is used solely for evaluating the model's performance after it has been trained on the training set. "
   ]
  },
  {
   "cell_type": "markdown",
   "id": "aad5adea",
   "metadata": {},
   "source": [
    "17. What is a validation set's purpose ?"
   ]
  },
  {
   "cell_type": "markdown",
   "id": "586a4d74",
   "metadata": {},
   "source": [
    "The validation set's purpose is to fine-tune the model's hyperparameters and assess its performance during the training process. It serves as an intermediate step between the training set and the test set in the machine learning pipeline."
   ]
  },
  {
   "cell_type": "markdown",
   "id": "6401b7a6",
   "metadata": {},
   "source": [
    "18. What precisely is the train-dev kit, when will you need it, how do you put it to use ?"
   ]
  },
  {
   "cell_type": "markdown",
   "id": "ffcf4336",
   "metadata": {},
   "source": [
    "The \"train-dev kit\" (also known as the \"development set\" or \"validation set\") is a subset of the original training dataset that is used during the development and evaluation of a machine learning model. It serves as an intermediate step between the training set and the final test set in the machine learning pipeline."
   ]
  },
  {
   "cell_type": "markdown",
   "id": "ee8e8a91",
   "metadata": {},
   "source": [
    "19. What could go wrong if you use the test set to tune hyperparameters ?"
   ]
  },
  {
   "cell_type": "markdown",
   "id": "a4369a93",
   "metadata": {},
   "source": [
    "\n",
    "Using the test set to tune hyperparameters can lead to several problems and compromise the integrity of model evaluation. This practice is referred to as \"data leakage\" and can result in overly optimistic performance estimates. Here are the key issues that can arise when using the test set for hyperparameter tuning:\n",
    "\n",
    "Overfitting to the Test Set\n",
    "Invalid Performance Estimates\n",
    "Loss of Unbiased Evaluation"
   ]
  }
 ],
 "metadata": {
  "kernelspec": {
   "display_name": "Python 3 (ipykernel)",
   "language": "python",
   "name": "python3"
  },
  "language_info": {
   "codemirror_mode": {
    "name": "ipython",
    "version": 3
   },
   "file_extension": ".py",
   "mimetype": "text/x-python",
   "name": "python",
   "nbconvert_exporter": "python",
   "pygments_lexer": "ipython3",
   "version": "3.9.7"
  }
 },
 "nbformat": 4,
 "nbformat_minor": 5
}
